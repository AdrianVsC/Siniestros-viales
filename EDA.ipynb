{
 "cells": [
  {
   "cell_type": "markdown",
   "metadata": {},
   "source": [
    "## Iniciaremos con el EDA"
   ]
  },
  {
   "cell_type": "markdown",
   "metadata": {},
   "source": [
    "Importamos las librerías que necesitaremos"
   ]
  },
  {
   "cell_type": "code",
   "execution_count": 2,
   "metadata": {},
   "outputs": [],
   "source": [
    "import matplotlib.pyplot as plt\n",
    "import pandas as pd\n",
    "import seaborn as sns"
   ]
  },
  {
   "cell_type": "markdown",
   "metadata": {},
   "source": [
    "### 1. Preparamos el set de datos"
   ]
  },
  {
   "cell_type": "code",
   "execution_count": 29,
   "metadata": {},
   "outputs": [],
   "source": [
    "archivo_hom = r\"C:\\Users\\argui\\OneDrive\\Escritorio\\Siniestros viales\\Dataset\\homicidios.csv\"\n",
    "archivo_vic = r\"C:\\Users\\argui\\OneDrive\\Escritorio\\Siniestros viales\\Dataset\\victimas.csv\""
   ]
  },
  {
   "cell_type": "markdown",
   "metadata": {},
   "source": [
    "### 2. Damos un primer vistazo al dataset"
   ]
  },
  {
   "cell_type": "code",
   "execution_count": 30,
   "metadata": {},
   "outputs": [
    {
     "data": {
      "text/html": [
       "<div>\n",
       "<style scoped>\n",
       "    .dataframe tbody tr th:only-of-type {\n",
       "        vertical-align: middle;\n",
       "    }\n",
       "\n",
       "    .dataframe tbody tr th {\n",
       "        vertical-align: top;\n",
       "    }\n",
       "\n",
       "    .dataframe thead th {\n",
       "        text-align: right;\n",
       "    }\n",
       "</style>\n",
       "<table border=\"1\" class=\"dataframe\">\n",
       "  <thead>\n",
       "    <tr style=\"text-align: right;\">\n",
       "      <th></th>\n",
       "      <th>ID</th>\n",
       "      <th>N_VICTIMAS</th>\n",
       "      <th>FECHA</th>\n",
       "      <th>AAAA</th>\n",
       "      <th>MM</th>\n",
       "      <th>DD</th>\n",
       "      <th>HORA</th>\n",
       "      <th>HH</th>\n",
       "      <th>LUGAR_DEL_HECHO</th>\n",
       "      <th>TIPO_DE_CALLE</th>\n",
       "      <th>...</th>\n",
       "      <th>Altura</th>\n",
       "      <th>Cruce</th>\n",
       "      <th>Dirección Normalizada</th>\n",
       "      <th>COMUNA</th>\n",
       "      <th>XY (CABA)</th>\n",
       "      <th>pos x</th>\n",
       "      <th>pos y</th>\n",
       "      <th>PARTICIPANTES</th>\n",
       "      <th>VICTIMA</th>\n",
       "      <th>ACUSADO</th>\n",
       "    </tr>\n",
       "  </thead>\n",
       "  <tbody>\n",
       "    <tr>\n",
       "      <th>0</th>\n",
       "      <td>2016-0001</td>\n",
       "      <td>1.0</td>\n",
       "      <td>1/01/2016</td>\n",
       "      <td>2016.0</td>\n",
       "      <td>1.0</td>\n",
       "      <td>1.0</td>\n",
       "      <td>04:00:00</td>\n",
       "      <td>4</td>\n",
       "      <td>AV PIEDRA BUENA Y AV FERNANDEZ DE LA CRUZ</td>\n",
       "      <td>AVENIDA</td>\n",
       "      <td>...</td>\n",
       "      <td>NaN</td>\n",
       "      <td>FERNANDEZ DE LA CRUZ, F., GRAL. AV.</td>\n",
       "      <td>PIEDRA BUENA AV. y FERNANDEZ DE LA CRUZ, F., G...</td>\n",
       "      <td>8.0</td>\n",
       "      <td>Point (98896.78238426 93532.43437792)</td>\n",
       "      <td>-58.47533969</td>\n",
       "      <td>-34.68757022</td>\n",
       "      <td>MOTO-AUTO</td>\n",
       "      <td>MOTO</td>\n",
       "      <td>AUTO</td>\n",
       "    </tr>\n",
       "    <tr>\n",
       "      <th>1</th>\n",
       "      <td>2016-0002</td>\n",
       "      <td>1.0</td>\n",
       "      <td>2/01/2016</td>\n",
       "      <td>2016.0</td>\n",
       "      <td>1.0</td>\n",
       "      <td>2.0</td>\n",
       "      <td>01:15:00</td>\n",
       "      <td>1</td>\n",
       "      <td>AV GRAL PAZ  Y AV DE LOS CORRALES</td>\n",
       "      <td>GRAL PAZ</td>\n",
       "      <td>...</td>\n",
       "      <td>NaN</td>\n",
       "      <td>DE LOS CORRALES AV.</td>\n",
       "      <td>PAZ, GRAL. AV. y DE LOS CORRALES AV.</td>\n",
       "      <td>9.0</td>\n",
       "      <td>Point (95832.05571093 95505.41641999)</td>\n",
       "      <td>-58.50877521</td>\n",
       "      <td>-34.66977709</td>\n",
       "      <td>AUTO-PASAJEROS</td>\n",
       "      <td>AUTO</td>\n",
       "      <td>PASAJEROS</td>\n",
       "    </tr>\n",
       "    <tr>\n",
       "      <th>2</th>\n",
       "      <td>2016-0003</td>\n",
       "      <td>1.0</td>\n",
       "      <td>3/01/2016</td>\n",
       "      <td>2016.0</td>\n",
       "      <td>1.0</td>\n",
       "      <td>3.0</td>\n",
       "      <td>07:00:00</td>\n",
       "      <td>7</td>\n",
       "      <td>AV ENTRE RIOS 2034</td>\n",
       "      <td>AVENIDA</td>\n",
       "      <td>...</td>\n",
       "      <td>2034.0</td>\n",
       "      <td>NaN</td>\n",
       "      <td>ENTRE RIOS AV. 2034</td>\n",
       "      <td>1.0</td>\n",
       "      <td>Point (106684.29090040 99706.57687843)</td>\n",
       "      <td>-58.39040293</td>\n",
       "      <td>-34.63189362</td>\n",
       "      <td>MOTO-AUTO</td>\n",
       "      <td>MOTO</td>\n",
       "      <td>AUTO</td>\n",
       "    </tr>\n",
       "  </tbody>\n",
       "</table>\n",
       "<p>3 rows × 21 columns</p>\n",
       "</div>"
      ],
      "text/plain": [
       "          ID  N_VICTIMAS      FECHA    AAAA   MM   DD      HORA HH  \\\n",
       "0  2016-0001         1.0  1/01/2016  2016.0  1.0  1.0  04:00:00  4   \n",
       "1  2016-0002         1.0  2/01/2016  2016.0  1.0  2.0  01:15:00  1   \n",
       "2  2016-0003         1.0  3/01/2016  2016.0  1.0  3.0  07:00:00  7   \n",
       "\n",
       "                             LUGAR_DEL_HECHO TIPO_DE_CALLE  ...  Altura  \\\n",
       "0  AV PIEDRA BUENA Y AV FERNANDEZ DE LA CRUZ       AVENIDA  ...     NaN   \n",
       "1          AV GRAL PAZ  Y AV DE LOS CORRALES      GRAL PAZ  ...     NaN   \n",
       "2                         AV ENTRE RIOS 2034       AVENIDA  ...  2034.0   \n",
       "\n",
       "                                 Cruce  \\\n",
       "0  FERNANDEZ DE LA CRUZ, F., GRAL. AV.   \n",
       "1                  DE LOS CORRALES AV.   \n",
       "2                                  NaN   \n",
       "\n",
       "                               Dirección Normalizada COMUNA  \\\n",
       "0  PIEDRA BUENA AV. y FERNANDEZ DE LA CRUZ, F., G...    8.0   \n",
       "1               PAZ, GRAL. AV. y DE LOS CORRALES AV.    9.0   \n",
       "2                                ENTRE RIOS AV. 2034    1.0   \n",
       "\n",
       "                                XY (CABA)         pos x         pos y  \\\n",
       "0   Point (98896.78238426 93532.43437792)  -58.47533969  -34.68757022   \n",
       "1   Point (95832.05571093 95505.41641999)  -58.50877521  -34.66977709   \n",
       "2  Point (106684.29090040 99706.57687843)  -58.39040293  -34.63189362   \n",
       "\n",
       "    PARTICIPANTES VICTIMA    ACUSADO  \n",
       "0       MOTO-AUTO    MOTO       AUTO  \n",
       "1  AUTO-PASAJEROS    AUTO  PASAJEROS  \n",
       "2       MOTO-AUTO    MOTO       AUTO  \n",
       "\n",
       "[3 rows x 21 columns]"
      ]
     },
     "execution_count": 30,
     "metadata": {},
     "output_type": "execute_result"
    }
   ],
   "source": [
    "#Insertamos el csv 'homicidios a un dataframe\n",
    "df_h = pd.read_csv(archivo_hom,delimiter=';',encoding='latin-1')\n",
    "df_h.head(3)"
   ]
  },
  {
   "cell_type": "code",
   "execution_count": 31,
   "metadata": {},
   "outputs": [
    {
     "name": "stdout",
     "output_type": "stream",
     "text": [
      "<class 'pandas.core.frame.DataFrame'>\n",
      "RangeIndex: 10493 entries, 0 to 10492\n",
      "Data columns (total 21 columns):\n",
      " #   Column                 Non-Null Count  Dtype  \n",
      "---  ------                 --------------  -----  \n",
      " 0   ID                     696 non-null    object \n",
      " 1   N_VICTIMAS             696 non-null    float64\n",
      " 2   FECHA                  696 non-null    object \n",
      " 3   AAAA                   696 non-null    float64\n",
      " 4   MM                     696 non-null    float64\n",
      " 5   DD                     696 non-null    float64\n",
      " 6   HORA                   696 non-null    object \n",
      " 7   HH                     696 non-null    object \n",
      " 8   LUGAR_DEL_HECHO        696 non-null    object \n",
      " 9   TIPO_DE_CALLE          696 non-null    object \n",
      " 10  Calle                  695 non-null    object \n",
      " 11  Altura                 129 non-null    float64\n",
      " 12  Cruce                  525 non-null    object \n",
      " 13  Dirección Normalizada  688 non-null    object \n",
      " 14  COMUNA                 696 non-null    float64\n",
      " 15  XY (CABA)              696 non-null    object \n",
      " 16  pos x                  696 non-null    object \n",
      " 17  pos y                  696 non-null    object \n",
      " 18  PARTICIPANTES          696 non-null    object \n",
      " 19  VICTIMA                696 non-null    object \n",
      " 20  ACUSADO                696 non-null    object \n",
      "dtypes: float64(6), object(15)\n",
      "memory usage: 1.7+ MB\n"
     ]
    }
   ],
   "source": [
    "#Inspeccionamos un poco el contenido del dataframe df_h\n",
    "df_h.info()"
   ]
  },
  {
   "cell_type": "code",
   "execution_count": 32,
   "metadata": {},
   "outputs": [
    {
     "data": {
      "text/plain": [
       "ID                        9797\n",
       "N_VICTIMAS                9797\n",
       "FECHA                     9797\n",
       "AAAA                      9797\n",
       "MM                        9797\n",
       "DD                        9797\n",
       "HORA                      9797\n",
       "HH                        9797\n",
       "LUGAR_DEL_HECHO           9797\n",
       "TIPO_DE_CALLE             9797\n",
       "Calle                     9798\n",
       "Altura                   10364\n",
       "Cruce                     9968\n",
       "Dirección Normalizada     9805\n",
       "COMUNA                    9797\n",
       "XY (CABA)                 9797\n",
       "pos x                     9797\n",
       "pos y                     9797\n",
       "PARTICIPANTES             9797\n",
       "VICTIMA                   9797\n",
       "ACUSADO                   9797\n",
       "dtype: int64"
      ]
     },
     "execution_count": 32,
     "metadata": {},
     "output_type": "execute_result"
    }
   ],
   "source": [
    "#También inspeccionamos la cantidad de nulos que contiene el df por columna\n",
    "df_h.isna().sum()"
   ]
  },
  {
   "cell_type": "code",
   "execution_count": 33,
   "metadata": {},
   "outputs": [
    {
     "data": {
      "text/html": [
       "<div>\n",
       "<style scoped>\n",
       "    .dataframe tbody tr th:only-of-type {\n",
       "        vertical-align: middle;\n",
       "    }\n",
       "\n",
       "    .dataframe tbody tr th {\n",
       "        vertical-align: top;\n",
       "    }\n",
       "\n",
       "    .dataframe thead th {\n",
       "        text-align: right;\n",
       "    }\n",
       "</style>\n",
       "<table border=\"1\" class=\"dataframe\">\n",
       "  <thead>\n",
       "    <tr style=\"text-align: right;\">\n",
       "      <th></th>\n",
       "      <th>ID_hecho</th>\n",
       "      <th>FECHA</th>\n",
       "      <th>AAAA</th>\n",
       "      <th>MM</th>\n",
       "      <th>DD</th>\n",
       "      <th>ROL</th>\n",
       "      <th>VICTIMA</th>\n",
       "      <th>SEXO</th>\n",
       "      <th>EDAD</th>\n",
       "      <th>FECHA_FALLECIMIENTO</th>\n",
       "    </tr>\n",
       "  </thead>\n",
       "  <tbody>\n",
       "    <tr>\n",
       "      <th>0</th>\n",
       "      <td>2016-0001</td>\n",
       "      <td>1/01/2016</td>\n",
       "      <td>2016.0</td>\n",
       "      <td>1.0</td>\n",
       "      <td>1.0</td>\n",
       "      <td>CONDUCTOR</td>\n",
       "      <td>MOTO</td>\n",
       "      <td>MASCULINO</td>\n",
       "      <td>19</td>\n",
       "      <td>1/01/2016</td>\n",
       "    </tr>\n",
       "    <tr>\n",
       "      <th>1</th>\n",
       "      <td>2016-0002</td>\n",
       "      <td>2/01/2016</td>\n",
       "      <td>2016.0</td>\n",
       "      <td>1.0</td>\n",
       "      <td>2.0</td>\n",
       "      <td>CONDUCTOR</td>\n",
       "      <td>AUTO</td>\n",
       "      <td>MASCULINO</td>\n",
       "      <td>70</td>\n",
       "      <td>2/01/2016</td>\n",
       "    </tr>\n",
       "    <tr>\n",
       "      <th>2</th>\n",
       "      <td>2016-0003</td>\n",
       "      <td>3/01/2016</td>\n",
       "      <td>2016.0</td>\n",
       "      <td>1.0</td>\n",
       "      <td>3.0</td>\n",
       "      <td>CONDUCTOR</td>\n",
       "      <td>MOTO</td>\n",
       "      <td>MASCULINO</td>\n",
       "      <td>30</td>\n",
       "      <td>3/01/2016</td>\n",
       "    </tr>\n",
       "  </tbody>\n",
       "</table>\n",
       "</div>"
      ],
      "text/plain": [
       "    ID_hecho      FECHA    AAAA   MM   DD        ROL VICTIMA       SEXO EDAD  \\\n",
       "0  2016-0001  1/01/2016  2016.0  1.0  1.0  CONDUCTOR    MOTO  MASCULINO   19   \n",
       "1  2016-0002  2/01/2016  2016.0  1.0  2.0  CONDUCTOR    AUTO  MASCULINO   70   \n",
       "2  2016-0003  3/01/2016  2016.0  1.0  3.0  CONDUCTOR    MOTO  MASCULINO   30   \n",
       "\n",
       "  FECHA_FALLECIMIENTO  \n",
       "0           1/01/2016  \n",
       "1           2/01/2016  \n",
       "2           3/01/2016  "
      ]
     },
     "execution_count": 33,
     "metadata": {},
     "output_type": "execute_result"
    }
   ],
   "source": [
    "#Insertamos el csv victimas a un dataframe\n",
    "df_v = pd.read_csv(archivo_vic,delimiter=';',encoding='latin-1' )\n",
    "df_v.head(3)"
   ]
  },
  {
   "cell_type": "code",
   "execution_count": 34,
   "metadata": {},
   "outputs": [
    {
     "name": "stdout",
     "output_type": "stream",
     "text": [
      "<class 'pandas.core.frame.DataFrame'>\n",
      "RangeIndex: 720 entries, 0 to 719\n",
      "Data columns (total 10 columns):\n",
      " #   Column               Non-Null Count  Dtype  \n",
      "---  ------               --------------  -----  \n",
      " 0   ID_hecho             717 non-null    object \n",
      " 1   FECHA                717 non-null    object \n",
      " 2   AAAA                 717 non-null    float64\n",
      " 3   MM                   717 non-null    float64\n",
      " 4   DD                   717 non-null    float64\n",
      " 5   ROL                  717 non-null    object \n",
      " 6   VICTIMA              717 non-null    object \n",
      " 7   SEXO                 717 non-null    object \n",
      " 8   EDAD                 717 non-null    object \n",
      " 9   FECHA_FALLECIMIENTO  717 non-null    object \n",
      "dtypes: float64(3), object(7)\n",
      "memory usage: 56.4+ KB\n"
     ]
    }
   ],
   "source": [
    "#Inspeccionamos los datos de df_v\n",
    "df_v.info()"
   ]
  },
  {
   "cell_type": "code",
   "execution_count": 35,
   "metadata": {},
   "outputs": [
    {
     "data": {
      "text/plain": [
       "ID_hecho               3\n",
       "FECHA                  3\n",
       "AAAA                   3\n",
       "MM                     3\n",
       "DD                     3\n",
       "ROL                    3\n",
       "VICTIMA                3\n",
       "SEXO                   3\n",
       "EDAD                   3\n",
       "FECHA_FALLECIMIENTO    3\n",
       "dtype: int64"
      ]
     },
     "execution_count": 35,
     "metadata": {},
     "output_type": "execute_result"
    }
   ],
   "source": [
    "#También inspeccionamos la cantidad de datos nulos por columa\n",
    "df_v.isna().sum()"
   ]
  },
  {
   "cell_type": "markdown",
   "metadata": {},
   "source": [
    "### 3.Limpieza\n",
    "Realizaremos el proceso de limpieza teniendo en cuenta las situaciones más comunes:\n",
    "1. Datos faltantes\n",
    "2. columnas irrelevantes \n",
    "3. Registros repetidos \n",
    "4. Valores extremos\n",
    "5. Errores tipográficos"
   ]
  },
  {
   "cell_type": "code",
   "execution_count": 36,
   "metadata": {},
   "outputs": [],
   "source": [
    "#Comenzaremos con la tabla df_h, eliminaremos las filas con todas las columnas vacías\n",
    "df_h = df_h.dropna(axis=0,how='all')\n",
    "\n",
    "#Lo mismo para df_v\n",
    "df_v = df_v.dropna(axis=0,how='all')"
   ]
  },
  {
   "cell_type": "code",
   "execution_count": 37,
   "metadata": {},
   "outputs": [
    {
     "data": {
      "text/plain": [
       "ID                         0\n",
       "N_VICTIMAS                 0\n",
       "FECHA                      0\n",
       "AAAA                       0\n",
       "MM                         0\n",
       "DD                         0\n",
       "HORA                       0\n",
       "HH                         0\n",
       "LUGAR_DEL_HECHO            0\n",
       "TIPO_DE_CALLE              0\n",
       "Calle                      1\n",
       "Altura                   567\n",
       "Cruce                    171\n",
       "Dirección Normalizada      8\n",
       "COMUNA                     0\n",
       "XY (CABA)                  0\n",
       "pos x                      0\n",
       "pos y                      0\n",
       "PARTICIPANTES              0\n",
       "VICTIMA                    0\n",
       "ACUSADO                    0\n",
       "dtype: int64"
      ]
     },
     "execution_count": 37,
     "metadata": {},
     "output_type": "execute_result"
    }
   ],
   "source": [
    "#Inspeccionamos cómo quedó df_h\n",
    "df_h.isna().sum()"
   ]
  },
  {
   "cell_type": "code",
   "execution_count": 38,
   "metadata": {},
   "outputs": [
    {
     "data": {
      "text/plain": [
       "ID_hecho               0\n",
       "FECHA                  0\n",
       "AAAA                   0\n",
       "MM                     0\n",
       "DD                     0\n",
       "ROL                    0\n",
       "VICTIMA                0\n",
       "SEXO                   0\n",
       "EDAD                   0\n",
       "FECHA_FALLECIMIENTO    0\n",
       "dtype: int64"
      ]
     },
     "execution_count": 38,
     "metadata": {},
     "output_type": "execute_result"
    }
   ],
   "source": [
    "#Inspeccionamos cómo quedó df_v\n",
    "df_v.isna().sum()"
   ]
  },
  {
   "cell_type": "code",
   "execution_count": 39,
   "metadata": {},
   "outputs": [
    {
     "data": {
      "text/html": [
       "<div>\n",
       "<style scoped>\n",
       "    .dataframe tbody tr th:only-of-type {\n",
       "        vertical-align: middle;\n",
       "    }\n",
       "\n",
       "    .dataframe tbody tr th {\n",
       "        vertical-align: top;\n",
       "    }\n",
       "\n",
       "    .dataframe thead th {\n",
       "        text-align: right;\n",
       "    }\n",
       "</style>\n",
       "<table border=\"1\" class=\"dataframe\">\n",
       "  <thead>\n",
       "    <tr style=\"text-align: right;\">\n",
       "      <th></th>\n",
       "      <th>ID</th>\n",
       "      <th>N_VICTIMAS</th>\n",
       "      <th>FECHA</th>\n",
       "      <th>AAAA</th>\n",
       "      <th>MM</th>\n",
       "      <th>DD</th>\n",
       "      <th>HORA</th>\n",
       "      <th>HH</th>\n",
       "      <th>LUGAR_DEL_HECHO</th>\n",
       "      <th>TIPO_DE_CALLE</th>\n",
       "      <th>...</th>\n",
       "      <th>Altura</th>\n",
       "      <th>Cruce</th>\n",
       "      <th>Dirección Normalizada</th>\n",
       "      <th>COMUNA</th>\n",
       "      <th>XY (CABA)</th>\n",
       "      <th>pos x</th>\n",
       "      <th>pos y</th>\n",
       "      <th>PARTICIPANTES</th>\n",
       "      <th>VICTIMA</th>\n",
       "      <th>ACUSADO</th>\n",
       "    </tr>\n",
       "  </thead>\n",
       "  <tbody>\n",
       "  </tbody>\n",
       "</table>\n",
       "<p>0 rows × 21 columns</p>\n",
       "</div>"
      ],
      "text/plain": [
       "Empty DataFrame\n",
       "Columns: [ID, N_VICTIMAS, FECHA, AAAA, MM, DD, HORA, HH, LUGAR_DEL_HECHO, TIPO_DE_CALLE, Calle, Altura, Cruce, Dirección Normalizada, COMUNA, XY (CABA), pos x, pos y, PARTICIPANTES, VICTIMA, ACUSADO]\n",
       "Index: []\n",
       "\n",
       "[0 rows x 21 columns]"
      ]
     },
     "execution_count": 39,
     "metadata": {},
     "output_type": "execute_result"
    }
   ],
   "source": [
    "#Verificamos si hay filas repetidas en df_h\n",
    "duplicados_h = df_h[df_h.duplicated(keep='first')]\n",
    "duplicados_h"
   ]
  },
  {
   "cell_type": "code",
   "execution_count": 44,
   "metadata": {},
   "outputs": [
    {
     "data": {
      "text/html": [
       "<div>\n",
       "<style scoped>\n",
       "    .dataframe tbody tr th:only-of-type {\n",
       "        vertical-align: middle;\n",
       "    }\n",
       "\n",
       "    .dataframe tbody tr th {\n",
       "        vertical-align: top;\n",
       "    }\n",
       "\n",
       "    .dataframe thead th {\n",
       "        text-align: right;\n",
       "    }\n",
       "</style>\n",
       "<table border=\"1\" class=\"dataframe\">\n",
       "  <thead>\n",
       "    <tr style=\"text-align: right;\">\n",
       "      <th></th>\n",
       "      <th>ID_hecho</th>\n",
       "      <th>FECHA</th>\n",
       "      <th>AAAA</th>\n",
       "      <th>MM</th>\n",
       "      <th>DD</th>\n",
       "      <th>ROL</th>\n",
       "      <th>VICTIMA</th>\n",
       "      <th>SEXO</th>\n",
       "      <th>EDAD</th>\n",
       "      <th>FECHA_FALLECIMIENTO</th>\n",
       "    </tr>\n",
       "  </thead>\n",
       "  <tbody>\n",
       "  </tbody>\n",
       "</table>\n",
       "</div>"
      ],
      "text/plain": [
       "Empty DataFrame\n",
       "Columns: [ID_hecho, FECHA, AAAA, MM, DD, ROL, VICTIMA, SEXO, EDAD, FECHA_FALLECIMIENTO]\n",
       "Index: []"
      ]
     },
     "execution_count": 44,
     "metadata": {},
     "output_type": "execute_result"
    }
   ],
   "source": [
    "#Verificamos si hay filas repetidas en df_v\n",
    "duplicados_v = df_v[df_v.duplicated(keep='first')]\n",
    "duplicados_v"
   ]
  },
  {
   "cell_type": "code",
   "execution_count": 45,
   "metadata": {},
   "outputs": [],
   "source": [
    "#Eliminamos columnas que no nos servirán\n",
    "df_h = df_h.drop(columns=['FECHA','HORA','Altura','PARTICIPANTES'])\n",
    "df_v = df_v.drop(columns=['FECHA','FECHA_FALLECIMIENTO'])"
   ]
  },
  {
   "cell_type": "code",
   "execution_count": 46,
   "metadata": {},
   "outputs": [
    {
     "data": {
      "text/html": [
       "<div>\n",
       "<style scoped>\n",
       "    .dataframe tbody tr th:only-of-type {\n",
       "        vertical-align: middle;\n",
       "    }\n",
       "\n",
       "    .dataframe tbody tr th {\n",
       "        vertical-align: top;\n",
       "    }\n",
       "\n",
       "    .dataframe thead th {\n",
       "        text-align: right;\n",
       "    }\n",
       "</style>\n",
       "<table border=\"1\" class=\"dataframe\">\n",
       "  <thead>\n",
       "    <tr style=\"text-align: right;\">\n",
       "      <th></th>\n",
       "      <th>AAAA</th>\n",
       "      <th>MM</th>\n",
       "      <th>DD</th>\n",
       "    </tr>\n",
       "  </thead>\n",
       "  <tbody>\n",
       "    <tr>\n",
       "      <th>count</th>\n",
       "      <td>717.000000</td>\n",
       "      <td>717.000000</td>\n",
       "      <td>717.000000</td>\n",
       "    </tr>\n",
       "    <tr>\n",
       "      <th>mean</th>\n",
       "      <td>2018.174338</td>\n",
       "      <td>6.688982</td>\n",
       "      <td>15.960948</td>\n",
       "    </tr>\n",
       "    <tr>\n",
       "      <th>std</th>\n",
       "      <td>1.672655</td>\n",
       "      <td>3.575140</td>\n",
       "      <td>8.683358</td>\n",
       "    </tr>\n",
       "    <tr>\n",
       "      <th>min</th>\n",
       "      <td>2016.000000</td>\n",
       "      <td>1.000000</td>\n",
       "      <td>1.000000</td>\n",
       "    </tr>\n",
       "    <tr>\n",
       "      <th>25%</th>\n",
       "      <td>2017.000000</td>\n",
       "      <td>4.000000</td>\n",
       "      <td>9.000000</td>\n",
       "    </tr>\n",
       "    <tr>\n",
       "      <th>50%</th>\n",
       "      <td>2018.000000</td>\n",
       "      <td>7.000000</td>\n",
       "      <td>16.000000</td>\n",
       "    </tr>\n",
       "    <tr>\n",
       "      <th>75%</th>\n",
       "      <td>2019.000000</td>\n",
       "      <td>10.000000</td>\n",
       "      <td>23.000000</td>\n",
       "    </tr>\n",
       "    <tr>\n",
       "      <th>max</th>\n",
       "      <td>2021.000000</td>\n",
       "      <td>12.000000</td>\n",
       "      <td>31.000000</td>\n",
       "    </tr>\n",
       "  </tbody>\n",
       "</table>\n",
       "</div>"
      ],
      "text/plain": [
       "              AAAA          MM          DD\n",
       "count   717.000000  717.000000  717.000000\n",
       "mean   2018.174338    6.688982   15.960948\n",
       "std       1.672655    3.575140    8.683358\n",
       "min    2016.000000    1.000000    1.000000\n",
       "25%    2017.000000    4.000000    9.000000\n",
       "50%    2018.000000    7.000000   16.000000\n",
       "75%    2019.000000   10.000000   23.000000\n",
       "max    2021.000000   12.000000   31.000000"
      ]
     },
     "execution_count": 46,
     "metadata": {},
     "output_type": "execute_result"
    }
   ],
   "source": [
    "#Inspeccionamos datos estadísticos acerca de las tablas numéricas\n",
    "df_v.describe()"
   ]
  },
  {
   "cell_type": "markdown",
   "metadata": {},
   "source": [
    "### 4. Inspección de outliers"
   ]
  },
  {
   "cell_type": "code",
   "execution_count": 47,
   "metadata": {},
   "outputs": [
    {
     "data": {
      "image/png": "[encoded data removed]",
      "text/plain": [
       "<Figure size 800x2000 with 5 Axes>"
      ]
     },
     "metadata": {},
     "output_type": "display_data"
    }
   ],
   "source": [
    "columns_h = ['N_VICTIMAS','AAAA','MM','DD','HH']\n",
    "fig,ax = plt.subplots(nrows=5, ncols = 1,figsize=(8,20))\n",
    "fig.subplots_adjust(hspace=0.5)\n",
    "\n",
    "for i,col in enumerate(columns_h):\n",
    "          sns.boxplot(x=col, data=df_h, ax=ax[i])\n",
    "          ax[i].set_title(col)"
   ]
  },
  {
   "cell_type": "markdown",
   "metadata": {},
   "source": [
    "Esta exploración se realizó con el fin de observar posibles outliers y analizar si es conveniente eliminar el dato. No se encontró outliers por lo que el DataFrame se mantiene"
   ]
  },
  {
   "cell_type": "code",
   "execution_count": 48,
   "metadata": {},
   "outputs": [
    {
     "data": {
      "image/png": "[encoded data removed]",
      "text/plain": [
       "<Figure size 1500x2000 with 4 Axes>"
      ]
     },
     "metadata": {},
     "output_type": "display_data"
    }
   ],
   "source": [
    "#Realizamos el mismo análisis para df_v\n",
    "columns_v = ['AAAA','MM','DD','EDAD']\n",
    "fig,ax = plt.subplots(nrows=4, ncols = 1,figsize=(15,20))\n",
    "fig.subplots_adjust(hspace=0.5)\n",
    "\n",
    "for i,col in enumerate(columns_v):\n",
    "          sns.boxplot(x=col, data=df_v, ax=ax[i])\n",
    "          ax[i].set_title(col)"
   ]
  },
  {
   "cell_type": "markdown",
   "metadata": {},
   "source": [
    "No observamos outliers por lo que el dataframe queda así"
   ]
  },
  {
   "cell_type": "code",
   "execution_count": 49,
   "metadata": {},
   "outputs": [
    {
     "data": {
      "text/html": [
       "<div>\n",
       "<style scoped>\n",
       "    .dataframe tbody tr th:only-of-type {\n",
       "        vertical-align: middle;\n",
       "    }\n",
       "\n",
       "    .dataframe tbody tr th {\n",
       "        vertical-align: top;\n",
       "    }\n",
       "\n",
       "    .dataframe thead th {\n",
       "        text-align: right;\n",
       "    }\n",
       "</style>\n",
       "<table border=\"1\" class=\"dataframe\">\n",
       "  <thead>\n",
       "    <tr style=\"text-align: right;\">\n",
       "      <th></th>\n",
       "      <th>ID_hecho</th>\n",
       "      <th>AAAA</th>\n",
       "      <th>MM</th>\n",
       "      <th>DD</th>\n",
       "      <th>ROL</th>\n",
       "      <th>VICTIMA</th>\n",
       "      <th>SEXO</th>\n",
       "      <th>EDAD</th>\n",
       "    </tr>\n",
       "  </thead>\n",
       "  <tbody>\n",
       "    <tr>\n",
       "      <th>0</th>\n",
       "      <td>2016-0001</td>\n",
       "      <td>2016.0</td>\n",
       "      <td>1.0</td>\n",
       "      <td>1.0</td>\n",
       "      <td>CONDUCTOR</td>\n",
       "      <td>MOTO</td>\n",
       "      <td>MASCULINO</td>\n",
       "      <td>19</td>\n",
       "    </tr>\n",
       "  </tbody>\n",
       "</table>\n",
       "</div>"
      ],
      "text/plain": [
       "    ID_hecho    AAAA   MM   DD        ROL VICTIMA       SEXO EDAD\n",
       "0  2016-0001  2016.0  1.0  1.0  CONDUCTOR    MOTO  MASCULINO   19"
      ]
     },
     "execution_count": 49,
     "metadata": {},
     "output_type": "execute_result"
    }
   ],
   "source": [
    "df_v.head(1)"
   ]
  },
  {
   "cell_type": "code",
   "execution_count": 50,
   "metadata": {},
   "outputs": [
    {
     "data": {
      "text/html": [
       "<div>\n",
       "<style scoped>\n",
       "    .dataframe tbody tr th:only-of-type {\n",
       "        vertical-align: middle;\n",
       "    }\n",
       "\n",
       "    .dataframe tbody tr th {\n",
       "        vertical-align: top;\n",
       "    }\n",
       "\n",
       "    .dataframe thead th {\n",
       "        text-align: right;\n",
       "    }\n",
       "</style>\n",
       "<table border=\"1\" class=\"dataframe\">\n",
       "  <thead>\n",
       "    <tr style=\"text-align: right;\">\n",
       "      <th></th>\n",
       "      <th>ID</th>\n",
       "      <th>N_VICTIMAS</th>\n",
       "      <th>AAAA</th>\n",
       "      <th>MM</th>\n",
       "      <th>DD</th>\n",
       "      <th>HH</th>\n",
       "      <th>LUGAR_DEL_HECHO</th>\n",
       "      <th>TIPO_DE_CALLE</th>\n",
       "      <th>Calle</th>\n",
       "      <th>Cruce</th>\n",
       "      <th>Dirección Normalizada</th>\n",
       "      <th>COMUNA</th>\n",
       "      <th>XY (CABA)</th>\n",
       "      <th>pos x</th>\n",
       "      <th>pos y</th>\n",
       "      <th>VICTIMA</th>\n",
       "      <th>ACUSADO</th>\n",
       "    </tr>\n",
       "  </thead>\n",
       "  <tbody>\n",
       "    <tr>\n",
       "      <th>0</th>\n",
       "      <td>2016-0001</td>\n",
       "      <td>1.0</td>\n",
       "      <td>2016.0</td>\n",
       "      <td>1.0</td>\n",
       "      <td>1.0</td>\n",
       "      <td>4</td>\n",
       "      <td>AV PIEDRA BUENA Y AV FERNANDEZ DE LA CRUZ</td>\n",
       "      <td>AVENIDA</td>\n",
       "      <td>PIEDRA BUENA AV.</td>\n",
       "      <td>FERNANDEZ DE LA CRUZ, F., GRAL. AV.</td>\n",
       "      <td>PIEDRA BUENA AV. y FERNANDEZ DE LA CRUZ, F., G...</td>\n",
       "      <td>8.0</td>\n",
       "      <td>Point (98896.78238426 93532.43437792)</td>\n",
       "      <td>-58.47533969</td>\n",
       "      <td>-34.68757022</td>\n",
       "      <td>MOTO</td>\n",
       "      <td>AUTO</td>\n",
       "    </tr>\n",
       "  </tbody>\n",
       "</table>\n",
       "</div>"
      ],
      "text/plain": [
       "          ID  N_VICTIMAS    AAAA   MM   DD HH  \\\n",
       "0  2016-0001         1.0  2016.0  1.0  1.0  4   \n",
       "\n",
       "                             LUGAR_DEL_HECHO TIPO_DE_CALLE             Calle  \\\n",
       "0  AV PIEDRA BUENA Y AV FERNANDEZ DE LA CRUZ       AVENIDA  PIEDRA BUENA AV.   \n",
       "\n",
       "                                 Cruce  \\\n",
       "0  FERNANDEZ DE LA CRUZ, F., GRAL. AV.   \n",
       "\n",
       "                               Dirección Normalizada  COMUNA  \\\n",
       "0  PIEDRA BUENA AV. y FERNANDEZ DE LA CRUZ, F., G...     8.0   \n",
       "\n",
       "                               XY (CABA)         pos x         pos y VICTIMA  \\\n",
       "0  Point (98896.78238426 93532.43437792)  -58.47533969  -34.68757022    MOTO   \n",
       "\n",
       "  ACUSADO  \n",
       "0    AUTO  "
      ]
     },
     "execution_count": 50,
     "metadata": {},
     "output_type": "execute_result"
    }
   ],
   "source": [
    "df_h.head(1)"
   ]
  },
  {
   "cell_type": "markdown",
   "metadata": {},
   "source": [
    "### 5. Corregir el tipo de dato"
   ]
  },
  {
   "cell_type": "code",
   "execution_count": 51,
   "metadata": {},
   "outputs": [],
   "source": [
    "#Convertimos todas estas columnas de df_h a tipo numérico\n",
    "df_h['N_VICTIMAS'] = pd.to_numeric(df_h['N_VICTIMAS'],errors='coerce')\n",
    "df_h['AAAA'] = pd.to_numeric(df_h['AAAA'],errors='coerce')\n",
    "df_h['MM'] = pd.to_numeric(df_h['MM'],errors='coerce')\n",
    "df_h['DD'] = pd.to_numeric(df_h['DD'],errors='coerce')\n",
    "df_h['HH'] = pd.to_numeric(df_h['HH'],errors='coerce')\n",
    "df_h['COMUNA'] = pd.to_numeric(df_h['COMUNA'],errors='coerce')\n",
    "df_h['pos x'] = pd.to_numeric(df_h['pos x'],errors='coerce')\n",
    "df_h['pos y'] = pd.to_numeric(df_h['pos y'],errors='coerce')"
   ]
  },
  {
   "cell_type": "code",
   "execution_count": 52,
   "metadata": {},
   "outputs": [],
   "source": [
    "#Rellenamos los vacíos con 0's y convertimos a dato entero\n",
    "df_h['AAAA'] = df_h['AAAA'].fillna(0).astype(int)\n",
    "df_h['MM'] = df_h['MM'].fillna(0).astype(int)\n",
    "df_h['DD'] = df_h['DD'].fillna(0).astype(int)\n",
    "df_h['HH'] = df_h['HH'].fillna(0).astype(int)\n",
    "df_h['COMUNA'] = df_h['COMUNA'].fillna(0).astype(int)\n",
    "df_h['N_VICTIMAS'] = df_h['N_VICTIMAS'].fillna(0).astype(int)"
   ]
  },
  {
   "cell_type": "code",
   "execution_count": 53,
   "metadata": {},
   "outputs": [],
   "source": [
    "#Convertimos todas estas columnas de df_v a dato numérico\n",
    "df_v['AAAA'] = pd.to_numeric(df_v['AAAA'], errors='coerce')\n",
    "df_v['MM'] = pd.to_numeric(df_v['MM'],errors='coerce')\n",
    "df_v['DD'] = pd.to_numeric(df_v['DD'],errors='coerce')\n",
    "df_v['EDAD'] = pd.to_numeric(df_v['EDAD'],errors='coerce')"
   ]
  },
  {
   "cell_type": "code",
   "execution_count": 54,
   "metadata": {},
   "outputs": [],
   "source": [
    "#Rellenamos los vacíos con 0's y convertimos a dato entero\n",
    "df_v['AAAA'] = df_v['AAAA'].fillna(0).astype(int)\n",
    "df_v['MM'] = df_v['MM'].fillna(0).astype(int)\n",
    "df_v['DD'] = df_v['DD'].fillna(0).astype(int)\n",
    "df_v['EDAD'] = df_v['EDAD'].fillna(0).astype(int)\n"
   ]
  },
  {
   "cell_type": "code",
   "execution_count": 55,
   "metadata": {},
   "outputs": [
    {
     "name": "stdout",
     "output_type": "stream",
     "text": [
      "<class 'pandas.core.frame.DataFrame'>\n",
      "Index: 717 entries, 0 to 716\n",
      "Data columns (total 8 columns):\n",
      " #   Column    Non-Null Count  Dtype \n",
      "---  ------    --------------  ----- \n",
      " 0   ID_hecho  717 non-null    object\n",
      " 1   AAAA      717 non-null    int32 \n",
      " 2   MM        717 non-null    int32 \n",
      " 3   DD        717 non-null    int32 \n",
      " 4   ROL       717 non-null    object\n",
      " 5   VICTIMA   717 non-null    object\n",
      " 6   SEXO      717 non-null    object\n",
      " 7   EDAD      717 non-null    int32 \n",
      "dtypes: int32(4), object(4)\n",
      "memory usage: 39.2+ KB\n"
     ]
    }
   ],
   "source": [
    "df_v.info()"
   ]
  },
  {
   "cell_type": "code",
   "execution_count": 56,
   "metadata": {},
   "outputs": [
    {
     "name": "stdout",
     "output_type": "stream",
     "text": [
      "<class 'pandas.core.frame.DataFrame'>\n",
      "Index: 696 entries, 0 to 695\n",
      "Data columns (total 17 columns):\n",
      " #   Column                 Non-Null Count  Dtype  \n",
      "---  ------                 --------------  -----  \n",
      " 0   ID                     696 non-null    object \n",
      " 1   N_VICTIMAS             696 non-null    int32  \n",
      " 2   AAAA                   696 non-null    int32  \n",
      " 3   MM                     696 non-null    int32  \n",
      " 4   DD                     696 non-null    int32  \n",
      " 5   HH                     696 non-null    int32  \n",
      " 6   LUGAR_DEL_HECHO        696 non-null    object \n",
      " 7   TIPO_DE_CALLE          696 non-null    object \n",
      " 8   Calle                  695 non-null    object \n",
      " 9   Cruce                  525 non-null    object \n",
      " 10  Dirección Normalizada  688 non-null    object \n",
      " 11  COMUNA                 696 non-null    int32  \n",
      " 12  XY (CABA)              696 non-null    object \n",
      " 13  pos x                  684 non-null    float64\n",
      " 14  pos y                  684 non-null    float64\n",
      " 15  VICTIMA                696 non-null    object \n",
      " 16  ACUSADO                696 non-null    object \n",
      "dtypes: float64(2), int32(6), object(9)\n",
      "memory usage: 81.6+ KB\n"
     ]
    }
   ],
   "source": [
    "df_h.info()"
   ]
  },
  {
   "cell_type": "code",
   "execution_count": 57,
   "metadata": {},
   "outputs": [
    {
     "data": {
      "text/html": [
       "<div>\n",
       "<style scoped>\n",
       "    .dataframe tbody tr th:only-of-type {\n",
       "        vertical-align: middle;\n",
       "    }\n",
       "\n",
       "    .dataframe tbody tr th {\n",
       "        vertical-align: top;\n",
       "    }\n",
       "\n",
       "    .dataframe thead th {\n",
       "        text-align: right;\n",
       "    }\n",
       "</style>\n",
       "<table border=\"1\" class=\"dataframe\">\n",
       "  <thead>\n",
       "    <tr style=\"text-align: right;\">\n",
       "      <th></th>\n",
       "      <th>ID</th>\n",
       "      <th>AAAA</th>\n",
       "      <th>MM</th>\n",
       "      <th>DD</th>\n",
       "      <th>ROL</th>\n",
       "      <th>VICTIMA</th>\n",
       "      <th>SEXO</th>\n",
       "      <th>EDAD</th>\n",
       "    </tr>\n",
       "  </thead>\n",
       "  <tbody>\n",
       "    <tr>\n",
       "      <th>0</th>\n",
       "      <td>2016-0001</td>\n",
       "      <td>2016</td>\n",
       "      <td>1</td>\n",
       "      <td>1</td>\n",
       "      <td>CONDUCTOR</td>\n",
       "      <td>MOTO</td>\n",
       "      <td>MASCULINO</td>\n",
       "      <td>19</td>\n",
       "    </tr>\n",
       "    <tr>\n",
       "      <th>1</th>\n",
       "      <td>2016-0002</td>\n",
       "      <td>2016</td>\n",
       "      <td>1</td>\n",
       "      <td>2</td>\n",
       "      <td>CONDUCTOR</td>\n",
       "      <td>AUTO</td>\n",
       "      <td>MASCULINO</td>\n",
       "      <td>70</td>\n",
       "    </tr>\n",
       "    <tr>\n",
       "      <th>2</th>\n",
       "      <td>2016-0003</td>\n",
       "      <td>2016</td>\n",
       "      <td>1</td>\n",
       "      <td>3</td>\n",
       "      <td>CONDUCTOR</td>\n",
       "      <td>MOTO</td>\n",
       "      <td>MASCULINO</td>\n",
       "      <td>30</td>\n",
       "    </tr>\n",
       "    <tr>\n",
       "      <th>3</th>\n",
       "      <td>2016-0004</td>\n",
       "      <td>2016</td>\n",
       "      <td>1</td>\n",
       "      <td>10</td>\n",
       "      <td>CONDUCTOR</td>\n",
       "      <td>MOTO</td>\n",
       "      <td>MASCULINO</td>\n",
       "      <td>18</td>\n",
       "    </tr>\n",
       "    <tr>\n",
       "      <th>4</th>\n",
       "      <td>2016-0005</td>\n",
       "      <td>2016</td>\n",
       "      <td>1</td>\n",
       "      <td>21</td>\n",
       "      <td>CONDUCTOR</td>\n",
       "      <td>MOTO</td>\n",
       "      <td>MASCULINO</td>\n",
       "      <td>29</td>\n",
       "    </tr>\n",
       "  </tbody>\n",
       "</table>\n",
       "</div>"
      ],
      "text/plain": [
       "          ID  AAAA  MM  DD        ROL VICTIMA       SEXO  EDAD\n",
       "0  2016-0001  2016   1   1  CONDUCTOR    MOTO  MASCULINO    19\n",
       "1  2016-0002  2016   1   2  CONDUCTOR    AUTO  MASCULINO    70\n",
       "2  2016-0003  2016   1   3  CONDUCTOR    MOTO  MASCULINO    30\n",
       "3  2016-0004  2016   1  10  CONDUCTOR    MOTO  MASCULINO    18\n",
       "4  2016-0005  2016   1  21  CONDUCTOR    MOTO  MASCULINO    29"
      ]
     },
     "execution_count": 57,
     "metadata": {},
     "output_type": "execute_result"
    }
   ],
   "source": [
    "#A continuación realizaré un merge en Id, por lo que cambiaré el nombre de la columna para que sea la misma\n",
    "df_v = df_v.rename(columns={'ID_hecho':'ID'})\n",
    "df_v.head()"
   ]
  },
  {
   "cell_type": "markdown",
   "metadata": {},
   "source": [
    "### 6. Merge de las tablas para analizar"
   ]
  },
  {
   "cell_type": "code",
   "execution_count": 77,
   "metadata": {},
   "outputs": [],
   "source": [
    "#Realizamos un merge e insertamos a un DataFrame\n",
    "df_final = pd.merge(df_h,df_v,on='ID')"
   ]
  },
  {
   "cell_type": "code",
   "execution_count": 78,
   "metadata": {},
   "outputs": [
    {
     "data": {
      "text/html": [
       "<div>\n",
       "<style scoped>\n",
       "    .dataframe tbody tr th:only-of-type {\n",
       "        vertical-align: middle;\n",
       "    }\n",
       "\n",
       "    .dataframe tbody tr th {\n",
       "        vertical-align: top;\n",
       "    }\n",
       "\n",
       "    .dataframe thead th {\n",
       "        text-align: right;\n",
       "    }\n",
       "</style>\n",
       "<table border=\"1\" class=\"dataframe\">\n",
       "  <thead>\n",
       "    <tr style=\"text-align: right;\">\n",
       "      <th></th>\n",
       "      <th>ID</th>\n",
       "      <th>N_VICTIMAS</th>\n",
       "      <th>AAAA_x</th>\n",
       "      <th>MM_x</th>\n",
       "      <th>DD_x</th>\n",
       "      <th>HH</th>\n",
       "      <th>LUGAR_DEL_HECHO</th>\n",
       "      <th>TIPO_DE_CALLE</th>\n",
       "      <th>Calle</th>\n",
       "      <th>Cruce</th>\n",
       "      <th>...</th>\n",
       "      <th>pos y</th>\n",
       "      <th>VICTIMA_x</th>\n",
       "      <th>ACUSADO</th>\n",
       "      <th>AAAA_y</th>\n",
       "      <th>MM_y</th>\n",
       "      <th>DD_y</th>\n",
       "      <th>ROL</th>\n",
       "      <th>VICTIMA_y</th>\n",
       "      <th>SEXO</th>\n",
       "      <th>EDAD</th>\n",
       "    </tr>\n",
       "  </thead>\n",
       "  <tbody>\n",
       "    <tr>\n",
       "      <th>0</th>\n",
       "      <td>2016-0001</td>\n",
       "      <td>1</td>\n",
       "      <td>2016</td>\n",
       "      <td>1</td>\n",
       "      <td>1</td>\n",
       "      <td>4</td>\n",
       "      <td>AV PIEDRA BUENA Y AV FERNANDEZ DE LA CRUZ</td>\n",
       "      <td>AVENIDA</td>\n",
       "      <td>PIEDRA BUENA AV.</td>\n",
       "      <td>FERNANDEZ DE LA CRUZ, F., GRAL. AV.</td>\n",
       "      <td>...</td>\n",
       "      <td>-34.687570</td>\n",
       "      <td>MOTO</td>\n",
       "      <td>AUTO</td>\n",
       "      <td>2016</td>\n",
       "      <td>1</td>\n",
       "      <td>1</td>\n",
       "      <td>CONDUCTOR</td>\n",
       "      <td>MOTO</td>\n",
       "      <td>MASCULINO</td>\n",
       "      <td>19</td>\n",
       "    </tr>\n",
       "    <tr>\n",
       "      <th>1</th>\n",
       "      <td>2016-0002</td>\n",
       "      <td>1</td>\n",
       "      <td>2016</td>\n",
       "      <td>1</td>\n",
       "      <td>2</td>\n",
       "      <td>1</td>\n",
       "      <td>AV GRAL PAZ  Y AV DE LOS CORRALES</td>\n",
       "      <td>GRAL PAZ</td>\n",
       "      <td>PAZ, GRAL. AV.</td>\n",
       "      <td>DE LOS CORRALES AV.</td>\n",
       "      <td>...</td>\n",
       "      <td>-34.669777</td>\n",
       "      <td>AUTO</td>\n",
       "      <td>PASAJEROS</td>\n",
       "      <td>2016</td>\n",
       "      <td>1</td>\n",
       "      <td>2</td>\n",
       "      <td>CONDUCTOR</td>\n",
       "      <td>AUTO</td>\n",
       "      <td>MASCULINO</td>\n",
       "      <td>70</td>\n",
       "    </tr>\n",
       "    <tr>\n",
       "      <th>2</th>\n",
       "      <td>2016-0003</td>\n",
       "      <td>1</td>\n",
       "      <td>2016</td>\n",
       "      <td>1</td>\n",
       "      <td>3</td>\n",
       "      <td>7</td>\n",
       "      <td>AV ENTRE RIOS 2034</td>\n",
       "      <td>AVENIDA</td>\n",
       "      <td>ENTRE RIOS AV.</td>\n",
       "      <td>NaN</td>\n",
       "      <td>...</td>\n",
       "      <td>-34.631894</td>\n",
       "      <td>MOTO</td>\n",
       "      <td>AUTO</td>\n",
       "      <td>2016</td>\n",
       "      <td>1</td>\n",
       "      <td>3</td>\n",
       "      <td>CONDUCTOR</td>\n",
       "      <td>MOTO</td>\n",
       "      <td>MASCULINO</td>\n",
       "      <td>30</td>\n",
       "    </tr>\n",
       "  </tbody>\n",
       "</table>\n",
       "<p>3 rows × 24 columns</p>\n",
       "</div>"
      ],
      "text/plain": [
       "          ID  N_VICTIMAS  AAAA_x  MM_x  DD_x  HH  \\\n",
       "0  2016-0001           1    2016     1     1   4   \n",
       "1  2016-0002           1    2016     1     2   1   \n",
       "2  2016-0003           1    2016     1     3   7   \n",
       "\n",
       "                             LUGAR_DEL_HECHO TIPO_DE_CALLE             Calle  \\\n",
       "0  AV PIEDRA BUENA Y AV FERNANDEZ DE LA CRUZ       AVENIDA  PIEDRA BUENA AV.   \n",
       "1          AV GRAL PAZ  Y AV DE LOS CORRALES      GRAL PAZ    PAZ, GRAL. AV.   \n",
       "2                         AV ENTRE RIOS 2034       AVENIDA    ENTRE RIOS AV.   \n",
       "\n",
       "                                 Cruce  ...      pos y  VICTIMA_x    ACUSADO  \\\n",
       "0  FERNANDEZ DE LA CRUZ, F., GRAL. AV.  ... -34.687570       MOTO       AUTO   \n",
       "1                  DE LOS CORRALES AV.  ... -34.669777       AUTO  PASAJEROS   \n",
       "2                                  NaN  ... -34.631894       MOTO       AUTO   \n",
       "\n",
       "   AAAA_y  MM_y DD_y        ROL  VICTIMA_y       SEXO  EDAD  \n",
       "0    2016     1    1  CONDUCTOR       MOTO  MASCULINO    19  \n",
       "1    2016     1    2  CONDUCTOR       AUTO  MASCULINO    70  \n",
       "2    2016     1    3  CONDUCTOR       MOTO  MASCULINO    30  \n",
       "\n",
       "[3 rows x 24 columns]"
      ]
     },
     "execution_count": 78,
     "metadata": {},
     "output_type": "execute_result"
    }
   ],
   "source": [
    "#Inspeccionamos los datos\n",
    "df_final.head(3)"
   ]
  },
  {
   "cell_type": "code",
   "execution_count": 79,
   "metadata": {},
   "outputs": [
    {
     "data": {
      "text/html": [
       "<div>\n",
       "<style scoped>\n",
       "    .dataframe tbody tr th:only-of-type {\n",
       "        vertical-align: middle;\n",
       "    }\n",
       "\n",
       "    .dataframe tbody tr th {\n",
       "        vertical-align: top;\n",
       "    }\n",
       "\n",
       "    .dataframe thead th {\n",
       "        text-align: right;\n",
       "    }\n",
       "</style>\n",
       "<table border=\"1\" class=\"dataframe\">\n",
       "  <thead>\n",
       "    <tr style=\"text-align: right;\">\n",
       "      <th></th>\n",
       "      <th>ID</th>\n",
       "      <th>N_VICTIMAS</th>\n",
       "      <th>AAAA_x</th>\n",
       "      <th>MM_x</th>\n",
       "      <th>DD_x</th>\n",
       "      <th>HH</th>\n",
       "      <th>LUGAR_DEL_HECHO</th>\n",
       "      <th>TIPO_DE_CALLE</th>\n",
       "      <th>Calle</th>\n",
       "      <th>Cruce</th>\n",
       "      <th>Dirección Normalizada</th>\n",
       "      <th>COMUNA</th>\n",
       "      <th>XY (CABA)</th>\n",
       "      <th>pos x</th>\n",
       "      <th>pos y</th>\n",
       "      <th>VICTIMA_x</th>\n",
       "      <th>ACUSADO</th>\n",
       "      <th>ROL</th>\n",
       "      <th>SEXO</th>\n",
       "      <th>EDAD</th>\n",
       "    </tr>\n",
       "  </thead>\n",
       "  <tbody>\n",
       "    <tr>\n",
       "      <th>0</th>\n",
       "      <td>2016-0001</td>\n",
       "      <td>1</td>\n",
       "      <td>2016</td>\n",
       "      <td>1</td>\n",
       "      <td>1</td>\n",
       "      <td>4</td>\n",
       "      <td>AV PIEDRA BUENA Y AV FERNANDEZ DE LA CRUZ</td>\n",
       "      <td>AVENIDA</td>\n",
       "      <td>PIEDRA BUENA AV.</td>\n",
       "      <td>FERNANDEZ DE LA CRUZ, F., GRAL. AV.</td>\n",
       "      <td>PIEDRA BUENA AV. y FERNANDEZ DE LA CRUZ, F., G...</td>\n",
       "      <td>8</td>\n",
       "      <td>Point (98896.78238426 93532.43437792)</td>\n",
       "      <td>-58.475340</td>\n",
       "      <td>-34.687570</td>\n",
       "      <td>MOTO</td>\n",
       "      <td>AUTO</td>\n",
       "      <td>CONDUCTOR</td>\n",
       "      <td>MASCULINO</td>\n",
       "      <td>19</td>\n",
       "    </tr>\n",
       "    <tr>\n",
       "      <th>1</th>\n",
       "      <td>2016-0002</td>\n",
       "      <td>1</td>\n",
       "      <td>2016</td>\n",
       "      <td>1</td>\n",
       "      <td>2</td>\n",
       "      <td>1</td>\n",
       "      <td>AV GRAL PAZ  Y AV DE LOS CORRALES</td>\n",
       "      <td>GRAL PAZ</td>\n",
       "      <td>PAZ, GRAL. AV.</td>\n",
       "      <td>DE LOS CORRALES AV.</td>\n",
       "      <td>PAZ, GRAL. AV. y DE LOS CORRALES AV.</td>\n",
       "      <td>9</td>\n",
       "      <td>Point (95832.05571093 95505.41641999)</td>\n",
       "      <td>-58.508775</td>\n",
       "      <td>-34.669777</td>\n",
       "      <td>AUTO</td>\n",
       "      <td>PASAJEROS</td>\n",
       "      <td>CONDUCTOR</td>\n",
       "      <td>MASCULINO</td>\n",
       "      <td>70</td>\n",
       "    </tr>\n",
       "  </tbody>\n",
       "</table>\n",
       "</div>"
      ],
      "text/plain": [
       "          ID  N_VICTIMAS  AAAA_x  MM_x  DD_x  HH  \\\n",
       "0  2016-0001           1    2016     1     1   4   \n",
       "1  2016-0002           1    2016     1     2   1   \n",
       "\n",
       "                             LUGAR_DEL_HECHO TIPO_DE_CALLE             Calle  \\\n",
       "0  AV PIEDRA BUENA Y AV FERNANDEZ DE LA CRUZ       AVENIDA  PIEDRA BUENA AV.   \n",
       "1          AV GRAL PAZ  Y AV DE LOS CORRALES      GRAL PAZ    PAZ, GRAL. AV.   \n",
       "\n",
       "                                 Cruce  \\\n",
       "0  FERNANDEZ DE LA CRUZ, F., GRAL. AV.   \n",
       "1                  DE LOS CORRALES AV.   \n",
       "\n",
       "                               Dirección Normalizada  COMUNA  \\\n",
       "0  PIEDRA BUENA AV. y FERNANDEZ DE LA CRUZ, F., G...       8   \n",
       "1               PAZ, GRAL. AV. y DE LOS CORRALES AV.       9   \n",
       "\n",
       "                               XY (CABA)      pos x      pos y VICTIMA_x  \\\n",
       "0  Point (98896.78238426 93532.43437792) -58.475340 -34.687570      MOTO   \n",
       "1  Point (95832.05571093 95505.41641999) -58.508775 -34.669777      AUTO   \n",
       "\n",
       "     ACUSADO        ROL       SEXO  EDAD  \n",
       "0       AUTO  CONDUCTOR  MASCULINO    19  \n",
       "1  PASAJEROS  CONDUCTOR  MASCULINO    70  "
      ]
     },
     "execution_count": 79,
     "metadata": {},
     "output_type": "execute_result"
    }
   ],
   "source": [
    "#Procederemos a limpiar las columnas duplicadas y las que no nos sirva en el contexto\n",
    "df_final = df_final.drop(columns=['AAAA_y','MM_y','DD_y','VICTIMA_y'])\n",
    "df_final.head(2)"
   ]
  },
  {
   "cell_type": "code",
   "execution_count": 80,
   "metadata": {},
   "outputs": [
    {
     "data": {
      "text/plain": [
       "ID                         0\n",
       "N_VICTIMAS                 0\n",
       "AAAA_x                     0\n",
       "MM_x                       0\n",
       "DD_x                       0\n",
       "HH                         0\n",
       "LUGAR_DEL_HECHO            0\n",
       "TIPO_DE_CALLE              0\n",
       "Calle                      1\n",
       "Cruce                    177\n",
       "Dirección Normalizada      9\n",
       "COMUNA                     0\n",
       "XY (CABA)                  0\n",
       "pos x                     13\n",
       "pos y                     13\n",
       "VICTIMA_x                  0\n",
       "ACUSADO                    0\n",
       "ROL                        0\n",
       "SEXO                       0\n",
       "EDAD                       0\n",
       "dtype: int64"
      ]
     },
     "execution_count": 80,
     "metadata": {},
     "output_type": "execute_result"
    }
   ],
   "source": [
    "#Analizamos la cantidad de nulos\n",
    "df_final.isna().sum()\n",
    "#Inspeccionamos los nulos y observamos que hay muchos en cruce, por lo que procederé imputar datos"
   ]
  },
  {
   "cell_type": "code",
   "execution_count": 81,
   "metadata": {},
   "outputs": [
    {
     "data": {
      "text/plain": [
       "0                  PIEDRA BUENA AV.\n",
       "1                    PAZ, GRAL. AV.\n",
       "2                    ENTRE RIOS AV.\n",
       "3                    LARRAZABAL AV.\n",
       "4                      SAN JUAN AV.\n",
       "                   ...             \n",
       "712                     RIESTRA AV.\n",
       "713    DELLEPIANE, LUIS, TTE. GRAL.\n",
       "714                       GAONA AV.\n",
       "715                  PERON, EVA AV.\n",
       "716             PADRE CARLOS MUJICA\n",
       "Name: Calle, Length: 717, dtype: object"
      ]
     },
     "execution_count": 81,
     "metadata": {},
     "output_type": "execute_result"
    }
   ],
   "source": [
    "df_final['Cruce'].fillna('SD')\n",
    "df_final['Calle'].fillna('SD')"
   ]
  },
  {
   "cell_type": "code",
   "execution_count": 82,
   "metadata": {},
   "outputs": [
    {
     "data": {
      "text/html": [
       "<div>\n",
       "<style scoped>\n",
       "    .dataframe tbody tr th:only-of-type {\n",
       "        vertical-align: middle;\n",
       "    }\n",
       "\n",
       "    .dataframe tbody tr th {\n",
       "        vertical-align: top;\n",
       "    }\n",
       "\n",
       "    .dataframe thead th {\n",
       "        text-align: right;\n",
       "    }\n",
       "</style>\n",
       "<table border=\"1\" class=\"dataframe\">\n",
       "  <thead>\n",
       "    <tr style=\"text-align: right;\">\n",
       "      <th></th>\n",
       "      <th>ID</th>\n",
       "      <th>N_VICTIMAS</th>\n",
       "      <th>AAAA_x</th>\n",
       "      <th>MM_x</th>\n",
       "      <th>DD_x</th>\n",
       "      <th>HH</th>\n",
       "      <th>LUGAR_DEL_HECHO</th>\n",
       "      <th>TIPO_DE_CALLE</th>\n",
       "      <th>Calle</th>\n",
       "      <th>Cruce</th>\n",
       "      <th>...</th>\n",
       "      <th>COMUNA</th>\n",
       "      <th>XY (CABA)</th>\n",
       "      <th>pos x</th>\n",
       "      <th>pos y</th>\n",
       "      <th>VICTIMA_x</th>\n",
       "      <th>ACUSADO</th>\n",
       "      <th>ROL</th>\n",
       "      <th>SEXO</th>\n",
       "      <th>EDAD</th>\n",
       "      <th>MES</th>\n",
       "    </tr>\n",
       "  </thead>\n",
       "  <tbody>\n",
       "    <tr>\n",
       "      <th>0</th>\n",
       "      <td>2016-0001</td>\n",
       "      <td>1</td>\n",
       "      <td>2016</td>\n",
       "      <td>1</td>\n",
       "      <td>1</td>\n",
       "      <td>4</td>\n",
       "      <td>AV PIEDRA BUENA Y AV FERNANDEZ DE LA CRUZ</td>\n",
       "      <td>AVENIDA</td>\n",
       "      <td>PIEDRA BUENA AV.</td>\n",
       "      <td>FERNANDEZ DE LA CRUZ, F., GRAL. AV.</td>\n",
       "      <td>...</td>\n",
       "      <td>8</td>\n",
       "      <td>Point (98896.78238426 93532.43437792)</td>\n",
       "      <td>-58.475340</td>\n",
       "      <td>-34.687570</td>\n",
       "      <td>MOTO</td>\n",
       "      <td>AUTO</td>\n",
       "      <td>CONDUCTOR</td>\n",
       "      <td>MASCULINO</td>\n",
       "      <td>19</td>\n",
       "      <td>enero</td>\n",
       "    </tr>\n",
       "    <tr>\n",
       "      <th>1</th>\n",
       "      <td>2016-0002</td>\n",
       "      <td>1</td>\n",
       "      <td>2016</td>\n",
       "      <td>1</td>\n",
       "      <td>2</td>\n",
       "      <td>1</td>\n",
       "      <td>AV GRAL PAZ  Y AV DE LOS CORRALES</td>\n",
       "      <td>GRAL PAZ</td>\n",
       "      <td>PAZ, GRAL. AV.</td>\n",
       "      <td>DE LOS CORRALES AV.</td>\n",
       "      <td>...</td>\n",
       "      <td>9</td>\n",
       "      <td>Point (95832.05571093 95505.41641999)</td>\n",
       "      <td>-58.508775</td>\n",
       "      <td>-34.669777</td>\n",
       "      <td>AUTO</td>\n",
       "      <td>PASAJEROS</td>\n",
       "      <td>CONDUCTOR</td>\n",
       "      <td>MASCULINO</td>\n",
       "      <td>70</td>\n",
       "      <td>enero</td>\n",
       "    </tr>\n",
       "  </tbody>\n",
       "</table>\n",
       "<p>2 rows × 21 columns</p>\n",
       "</div>"
      ],
      "text/plain": [
       "          ID  N_VICTIMAS  AAAA_x  MM_x  DD_x  HH  \\\n",
       "0  2016-0001           1    2016     1     1   4   \n",
       "1  2016-0002           1    2016     1     2   1   \n",
       "\n",
       "                             LUGAR_DEL_HECHO TIPO_DE_CALLE             Calle  \\\n",
       "0  AV PIEDRA BUENA Y AV FERNANDEZ DE LA CRUZ       AVENIDA  PIEDRA BUENA AV.   \n",
       "1          AV GRAL PAZ  Y AV DE LOS CORRALES      GRAL PAZ    PAZ, GRAL. AV.   \n",
       "\n",
       "                                 Cruce  ... COMUNA  \\\n",
       "0  FERNANDEZ DE LA CRUZ, F., GRAL. AV.  ...      8   \n",
       "1                  DE LOS CORRALES AV.  ...      9   \n",
       "\n",
       "                               XY (CABA)      pos x      pos y  VICTIMA_x  \\\n",
       "0  Point (98896.78238426 93532.43437792) -58.475340 -34.687570       MOTO   \n",
       "1  Point (95832.05571093 95505.41641999) -58.508775 -34.669777       AUTO   \n",
       "\n",
       "     ACUSADO        ROL       SEXO EDAD    MES  \n",
       "0       AUTO  CONDUCTOR  MASCULINO   19  enero  \n",
       "1  PASAJEROS  CONDUCTOR  MASCULINO   70  enero  \n",
       "\n",
       "[2 rows x 21 columns]"
      ]
     },
     "execution_count": 82,
     "metadata": {},
     "output_type": "execute_result"
    }
   ],
   "source": [
    "#Agregaré una nueva columna llamada MES que reemplazará a mes\n",
    "nombres_meses_espanol = [\n",
    "    'enero', 'febrero', 'marzo', 'abril', 'mayo', 'junio',\n",
    "    'julio', 'agosto', 'septiembre', 'octubre', 'noviembre', 'diciembre'\n",
    "]\n",
    "\n",
    "# Agregar una nueva columna 'Nombre_mes' que contenga el nombre del mes en español\n",
    "df_final['MES'] = df_final['MM_x'].apply(lambda x: nombres_meses_espanol[x - 1])\n",
    "df_final.head(2)"
   ]
  },
  {
   "cell_type": "code",
   "execution_count": 83,
   "metadata": {},
   "outputs": [
    {
     "data": {
      "text/plain": [
       "array(['enero', 'febrero', 'marzo', 'abril', 'mayo', 'junio', 'julio',\n",
       "       'agosto', 'septiembre', 'octubre', 'noviembre', 'diciembre'],\n",
       "      dtype=object)"
      ]
     },
     "execution_count": 83,
     "metadata": {},
     "output_type": "execute_result"
    }
   ],
   "source": [
    "#Renombamos columnas\n",
    "df_final = df_final.rename(columns={'AAAA_x':'AÑO','MM_x':'N_MES','DD_x':'DIA','HH':'HORA','VICTIMA_x':'VICTIMA'})\n",
    "df_final['MES'].unique()"
   ]
  },
  {
   "cell_type": "code",
   "execution_count": 84,
   "metadata": {},
   "outputs": [
    {
     "data": {
      "text/html": [
       "<div>\n",
       "<style scoped>\n",
       "    .dataframe tbody tr th:only-of-type {\n",
       "        vertical-align: middle;\n",
       "    }\n",
       "\n",
       "    .dataframe tbody tr th {\n",
       "        vertical-align: top;\n",
       "    }\n",
       "\n",
       "    .dataframe thead th {\n",
       "        text-align: right;\n",
       "    }\n",
       "</style>\n",
       "<table border=\"1\" class=\"dataframe\">\n",
       "  <thead>\n",
       "    <tr style=\"text-align: right;\">\n",
       "      <th></th>\n",
       "      <th>ID</th>\n",
       "      <th>N_VICTIMAS</th>\n",
       "      <th>AÑO</th>\n",
       "      <th>N_MES</th>\n",
       "      <th>DIA</th>\n",
       "      <th>HORA</th>\n",
       "      <th>LUGAR_DEL_HECHO</th>\n",
       "      <th>TIPO_DE_CALLE</th>\n",
       "      <th>Calle</th>\n",
       "      <th>Cruce</th>\n",
       "      <th>...</th>\n",
       "      <th>COMUNA</th>\n",
       "      <th>XY (CABA)</th>\n",
       "      <th>pos x</th>\n",
       "      <th>pos y</th>\n",
       "      <th>VICTIMA</th>\n",
       "      <th>ACUSADO</th>\n",
       "      <th>ROL</th>\n",
       "      <th>SEXO</th>\n",
       "      <th>EDAD</th>\n",
       "      <th>MES</th>\n",
       "    </tr>\n",
       "  </thead>\n",
       "  <tbody>\n",
       "    <tr>\n",
       "      <th>0</th>\n",
       "      <td>2016-0001</td>\n",
       "      <td>1</td>\n",
       "      <td>2016</td>\n",
       "      <td>1</td>\n",
       "      <td>1</td>\n",
       "      <td>4</td>\n",
       "      <td>AV PIEDRA BUENA Y AV FERNANDEZ DE LA CRUZ</td>\n",
       "      <td>AVENIDA</td>\n",
       "      <td>PIEDRA BUENA AV.</td>\n",
       "      <td>FERNANDEZ DE LA CRUZ, F., GRAL. AV.</td>\n",
       "      <td>...</td>\n",
       "      <td>8</td>\n",
       "      <td>Point (98896.78238426 93532.43437792)</td>\n",
       "      <td>-58.475340</td>\n",
       "      <td>-34.687570</td>\n",
       "      <td>MOTO</td>\n",
       "      <td>AUTO</td>\n",
       "      <td>CONDUCTOR</td>\n",
       "      <td>MASCULINO</td>\n",
       "      <td>19</td>\n",
       "      <td>enero</td>\n",
       "    </tr>\n",
       "    <tr>\n",
       "      <th>1</th>\n",
       "      <td>2016-0002</td>\n",
       "      <td>1</td>\n",
       "      <td>2016</td>\n",
       "      <td>1</td>\n",
       "      <td>2</td>\n",
       "      <td>1</td>\n",
       "      <td>AV GRAL PAZ  Y AV DE LOS CORRALES</td>\n",
       "      <td>GRAL PAZ</td>\n",
       "      <td>PAZ, GRAL. AV.</td>\n",
       "      <td>DE LOS CORRALES AV.</td>\n",
       "      <td>...</td>\n",
       "      <td>9</td>\n",
       "      <td>Point (95832.05571093 95505.41641999)</td>\n",
       "      <td>-58.508775</td>\n",
       "      <td>-34.669777</td>\n",
       "      <td>AUTO</td>\n",
       "      <td>PASAJEROS</td>\n",
       "      <td>CONDUCTOR</td>\n",
       "      <td>MASCULINO</td>\n",
       "      <td>70</td>\n",
       "      <td>enero</td>\n",
       "    </tr>\n",
       "  </tbody>\n",
       "</table>\n",
       "<p>2 rows × 21 columns</p>\n",
       "</div>"
      ],
      "text/plain": [
       "          ID  N_VICTIMAS   AÑO  N_MES  DIA  HORA  \\\n",
       "0  2016-0001           1  2016      1    1     4   \n",
       "1  2016-0002           1  2016      1    2     1   \n",
       "\n",
       "                             LUGAR_DEL_HECHO TIPO_DE_CALLE             Calle  \\\n",
       "0  AV PIEDRA BUENA Y AV FERNANDEZ DE LA CRUZ       AVENIDA  PIEDRA BUENA AV.   \n",
       "1          AV GRAL PAZ  Y AV DE LOS CORRALES      GRAL PAZ    PAZ, GRAL. AV.   \n",
       "\n",
       "                                 Cruce  ... COMUNA  \\\n",
       "0  FERNANDEZ DE LA CRUZ, F., GRAL. AV.  ...      8   \n",
       "1                  DE LOS CORRALES AV.  ...      9   \n",
       "\n",
       "                               XY (CABA)      pos x      pos y  VICTIMA  \\\n",
       "0  Point (98896.78238426 93532.43437792) -58.475340 -34.687570     MOTO   \n",
       "1  Point (95832.05571093 95505.41641999) -58.508775 -34.669777     AUTO   \n",
       "\n",
       "     ACUSADO        ROL       SEXO EDAD    MES  \n",
       "0       AUTO  CONDUCTOR  MASCULINO   19  enero  \n",
       "1  PASAJEROS  CONDUCTOR  MASCULINO   70  enero  \n",
       "\n",
       "[2 rows x 21 columns]"
      ]
     },
     "execution_count": 84,
     "metadata": {},
     "output_type": "execute_result"
    }
   ],
   "source": [
    "df_final.head(2)"
   ]
  },
  {
   "cell_type": "code",
   "execution_count": 85,
   "metadata": {},
   "outputs": [],
   "source": [
    "#Le damos una última limpieza a los nulos antes de guardar en un csv\n",
    "df_final = df_final.dropna(axis=0,how='all')"
   ]
  },
  {
   "cell_type": "code",
   "execution_count": 86,
   "metadata": {},
   "outputs": [],
   "source": [
    "#Guardamos en un csv\n",
    "df_final.to_csv(r\"C:\\Users\\argui\\OneDrive\\Escritorio\\Siniestros viales\\Dataset\\mergeETL.csv\")"
   ]
  },
  {
   "cell_type": "markdown",
   "metadata": {},
   "source": [
    "# EDA:"
   ]
  },
  {
   "cell_type": "markdown",
   "metadata": {},
   "source": [
    "### 1. Análisis de Cantidad de víctimas por año"
   ]
  },
  {
   "cell_type": "code",
   "execution_count": 68,
   "metadata": {},
   "outputs": [
    {
     "data": {
      "image/png": "[encoded data removed]",
      "text/plain": [
       "<Figure size 1000x600 with 1 Axes>"
      ]
     },
     "metadata": {},
     "output_type": "display_data"
    }
   ],
   "source": [
    "victimas_por_ano = df_final.groupby('AÑO')['N_VICTIMAS'].sum().reset_index()\n",
    "plt.figure(figsize=(10, 6))\n",
    "plt.bar(victimas_por_ano['AÑO'], victimas_por_ano['N_VICTIMAS'], color='skyblue')\n",
    "plt.xlabel('Año')\n",
    "plt.ylabel('Número de Víctimas')\n",
    "plt.title('Cantidad de Víctimas por Año')\n",
    "plt.xticks(victimas_por_ano['AÑO'])  # Asegura que todos los años sean mostrados en el eje x\n",
    "plt.grid(True, axis='y', linestyle='--', alpha=0.7)\n",
    "plt.show()\n",
    "\n"
   ]
  },
  {
   "cell_type": "markdown",
   "metadata": {},
   "source": [
    "Podemos observar, de los datos analizados, que hubo una disminución de los siniestros acentuada en 2020, donde se registraron menos hechos.\n",
    "Hay que tener en cuenta que los datos corresponden a Ciudad Autónoma de Buenos Aires y en el año 2020 se vivió una situación muy particular de aislamiento como consecuencia de la pandemia de COVID. En Argentina, a través de un decreto de necesidad y urgencia se limitó la circulación de las personas."
   ]
  },
  {
   "cell_type": "code",
   "execution_count": 69,
   "metadata": {},
   "outputs": [
    {
     "data": {
      "image/png": "[encoded data removed]",
      "text/plain": [
       "<Figure size 1000x600 with 1 Axes>"
      ]
     },
     "metadata": {},
     "output_type": "display_data"
    }
   ],
   "source": [
    "victimas_por_mes = df_final.groupby('MES')['N_VICTIMAS'].sum().reset_index()\n",
    "plt.figure(figsize=(10, 6))\n",
    "plt.bar(victimas_por_mes['MES'], victimas_por_mes['N_VICTIMAS'], color='skyblue')\n",
    "plt.xlabel('Mes')\n",
    "plt.ylabel('Número de Víctimas')\n",
    "plt.title('Cantidad de Víctimas por Mes')\n",
    "plt.xticks(victimas_por_mes['MES'], rotation=90)  # Asegura que todos los meses sean mostrados en el eje x\n",
    "plt.grid(True, axis='y', linestyle='--', alpha=0.7)\n",
    "plt.show()\n",
    "\n",
    "\n"
   ]
  },
  {
   "cell_type": "markdown",
   "metadata": {},
   "source": [
    "Se puede observar que el mes con mayor cantidad de muertos es el mes de diciembre"
   ]
  },
  {
   "cell_type": "code",
   "execution_count": 70,
   "metadata": {},
   "outputs": [
    {
     "data": {
      "image/png": "[encoded data removed]",
      "text/plain": [
       "<Figure size 1200x600 with 1 Axes>"
      ]
     },
     "metadata": {},
     "output_type": "display_data"
    }
   ],
   "source": [
    "import matplotlib.pyplot as plt\n",
    "\n",
    "# Paso 1: Agrupa los datos por hora y calcula la cantidad de víctimas para cada hora\n",
    "victimas_por_hora = df_final.groupby('HORA')['N_VICTIMAS'].sum().reset_index()\n",
    "\n",
    "# Paso 2: Crea un gráfico de barras para mostrar la cantidad de víctimas por hora\n",
    "plt.figure(figsize=(12, 6))\n",
    "plt.bar(victimas_por_hora['HORA'], victimas_por_hora['N_VICTIMAS'], color='skyblue')\n",
    "plt.xlabel('Hora del día')\n",
    "plt.ylabel('Número de Víctimas')\n",
    "plt.title('Cantidad de Víctimas por Hora del Día')\n",
    "plt.xticks(victimas_por_hora['HORA'])\n",
    "plt.grid(True, axis='y', linestyle='--', alpha=0.7)\n",
    "plt.show()\n"
   ]
  },
  {
   "cell_type": "markdown",
   "metadata": {},
   "source": [
    "Podemos obersar que los siniestros viales tienden a suceder con mayor frecuencia entre las 4 y las 9 de la mañana"
   ]
  },
  {
   "cell_type": "code",
   "execution_count": 71,
   "metadata": {},
   "outputs": [
    {
     "data": {
      "text/html": [
       "<div>\n",
       "<style scoped>\n",
       "    .dataframe tbody tr th:only-of-type {\n",
       "        vertical-align: middle;\n",
       "    }\n",
       "\n",
       "    .dataframe tbody tr th {\n",
       "        vertical-align: top;\n",
       "    }\n",
       "\n",
       "    .dataframe thead th {\n",
       "        text-align: right;\n",
       "    }\n",
       "</style>\n",
       "<table border=\"1\" class=\"dataframe\">\n",
       "  <thead>\n",
       "    <tr style=\"text-align: right;\">\n",
       "      <th></th>\n",
       "      <th>ID</th>\n",
       "      <th>N_VICTIMAS</th>\n",
       "      <th>AÑO</th>\n",
       "      <th>N_MES</th>\n",
       "      <th>DIA</th>\n",
       "      <th>HORA</th>\n",
       "      <th>LUGAR_DEL_HECHO</th>\n",
       "      <th>TIPO_DE_CALLE</th>\n",
       "      <th>Calle</th>\n",
       "      <th>Cruce</th>\n",
       "      <th>...</th>\n",
       "      <th>COMUNA</th>\n",
       "      <th>XY (CABA)</th>\n",
       "      <th>pos x</th>\n",
       "      <th>pos y</th>\n",
       "      <th>VICTIMA</th>\n",
       "      <th>ACUSADO</th>\n",
       "      <th>ROL</th>\n",
       "      <th>SEXO</th>\n",
       "      <th>EDAD</th>\n",
       "      <th>MES</th>\n",
       "    </tr>\n",
       "  </thead>\n",
       "  <tbody>\n",
       "    <tr>\n",
       "      <th>0</th>\n",
       "      <td>2016-0001</td>\n",
       "      <td>1</td>\n",
       "      <td>2016</td>\n",
       "      <td>1</td>\n",
       "      <td>1</td>\n",
       "      <td>4</td>\n",
       "      <td>AV PIEDRA BUENA Y AV FERNANDEZ DE LA CRUZ</td>\n",
       "      <td>AVENIDA</td>\n",
       "      <td>PIEDRA BUENA AV.</td>\n",
       "      <td>FERNANDEZ DE LA CRUZ, F., GRAL. AV.</td>\n",
       "      <td>...</td>\n",
       "      <td>8</td>\n",
       "      <td>Point (98896.78238426 93532.43437792)</td>\n",
       "      <td>-58.47534</td>\n",
       "      <td>-34.68757</td>\n",
       "      <td>MOTO</td>\n",
       "      <td>AUTO</td>\n",
       "      <td>CONDUCTOR</td>\n",
       "      <td>MASCULINO</td>\n",
       "      <td>19</td>\n",
       "      <td>enero</td>\n",
       "    </tr>\n",
       "  </tbody>\n",
       "</table>\n",
       "<p>1 rows × 21 columns</p>\n",
       "</div>"
      ],
      "text/plain": [
       "          ID  N_VICTIMAS   AÑO  N_MES  DIA  HORA  \\\n",
       "0  2016-0001           1  2016      1    1     4   \n",
       "\n",
       "                             LUGAR_DEL_HECHO TIPO_DE_CALLE             Calle  \\\n",
       "0  AV PIEDRA BUENA Y AV FERNANDEZ DE LA CRUZ       AVENIDA  PIEDRA BUENA AV.   \n",
       "\n",
       "                                 Cruce  ... COMUNA  \\\n",
       "0  FERNANDEZ DE LA CRUZ, F., GRAL. AV.  ...      8   \n",
       "\n",
       "                               XY (CABA)     pos x     pos y  VICTIMA ACUSADO  \\\n",
       "0  Point (98896.78238426 93532.43437792) -58.47534 -34.68757     MOTO    AUTO   \n",
       "\n",
       "         ROL       SEXO EDAD    MES  \n",
       "0  CONDUCTOR  MASCULINO   19  enero  \n",
       "\n",
       "[1 rows x 21 columns]"
      ]
     },
     "execution_count": 71,
     "metadata": {},
     "output_type": "execute_result"
    }
   ],
   "source": [
    "df_final.head(1)"
   ]
  },
  {
   "cell_type": "code",
   "execution_count": 72,
   "metadata": {},
   "outputs": [
    {
     "data": {
      "image/png": "[encoded data removed]",
      "text/plain": [
       "<Figure size 800x600 with 1 Axes>"
      ]
     },
     "metadata": {},
     "output_type": "display_data"
    },
    {
     "data": {
      "image/png": "[encoded data removed]",
      "text/plain": [
       "<Figure size 1000x600 with 1 Axes>"
      ]
     },
     "metadata": {},
     "output_type": "display_data"
    }
   ],
   "source": [
    "import pandas as pd\n",
    "import matplotlib.pyplot as plt\n",
    "\n",
    "# Calcular la cantidad de víctimas masculinas y femeninas\n",
    "victimas_por_sexo = df_final.groupby('SEXO')['N_VICTIMAS'].sum()\n",
    "\n",
    "# Crear un gráfico de barras\n",
    "plt.figure(figsize=(8, 6))\n",
    "victimas_por_sexo.plot(kind='bar', color=['blue', 'pink'], alpha=0.7)\n",
    "\n",
    "# Añadir etiquetas y título\n",
    "plt.xlabel('Sexo')\n",
    "plt.ylabel('Cantidad de Víctimas')\n",
    "plt.title('Cantidad de Víctimas por Género')\n",
    "\n",
    "# Añadir etiquetas a las barras\n",
    "for i, valor in enumerate(victimas_por_sexo):\n",
    "    plt.text(i, valor + 0.005 * valor, str(valor), ha='center', va='bottom')  # Ajusta el valor 0.05 según sea necesario\n",
    "\n",
    "# Mostrar el gráfico\n",
    "plt.tight_layout()\n",
    "plt.show()\n",
    "\n",
    "# ////////////////////////////////////////////////////////////////////////////////////////////////\n",
    "\n",
    "\n",
    "# Filtrar el DataFrame por sexo masculino, femenino y desconocido\n",
    "df_masculino = df_final[df_final['SEXO'] == 'MASCULINO']\n",
    "df_femenino = df_final[df_final['SEXO'] == 'FEMENINO']\n",
    "df_desconocido = df_final[df_final['SEXO'] == 'SD']\n",
    "\n",
    "# Agrupar por año y sumar la cantidad de víctimas para cada sexo\n",
    "victimas_por_año_masculino = df_masculino.groupby('AÑO')['N_VICTIMAS'].sum()\n",
    "victimas_por_año_femenino = df_femenino.groupby('AÑO')['N_VICTIMAS'].sum()\n",
    "victimas_por_año_desconocido = df_desconocido.groupby('AÑO')['N_VICTIMAS'].sum()\n",
    "\n",
    "# Crear una figura y ejes\n",
    "plt.figure(figsize=(10, 6))\n",
    "\n",
    "# Graficar la cantidad de víctimas por año para sexo masculino\n",
    "plt.plot(victimas_por_año_masculino.index, victimas_por_año_masculino.values, marker='o', label='MASCULINO')\n",
    "\n",
    "# Graficar la cantidad de víctimas por año para sexo femenino\n",
    "plt.plot(victimas_por_año_femenino.index, victimas_por_año_femenino.values, marker='o', label='FEMENINO')\n",
    "\n",
    "# Graficar la cantidad de víctimas por año para sexo desconocido\n",
    "plt.plot(victimas_por_año_desconocido.index, victimas_por_año_desconocido.values, marker='o', label='Desconocido')\n",
    "\n",
    "# Añadir etiquetas y título\n",
    "plt.xlabel('AÑO')\n",
    "plt.ylabel('Cantidad de Víctimas')\n",
    "plt.title('Cantidad de Víctimas por AÑO y SEXO')\n",
    "\n",
    "# Mostrar la leyenda\n",
    "plt.legend()\n",
    "\n",
    "# Mostrar el gráfico\n",
    "plt.grid(True)\n",
    "plt.tight_layout()\n",
    "plt.show()\n",
    "\n"
   ]
  },
  {
   "cell_type": "markdown",
   "metadata": {},
   "source": [
    "Podemos observar en el primer gráfico de barras que la cantidad de victimas masculinas es mucho mayor a la cantidad de victimas masculinas y que tienen cierta correlación debido a que se puede observar en el grafico de línea, que cuando uno aumenta, el otro también y cuando uno disminuye, el otro también"
   ]
  },
  {
   "cell_type": "code",
   "execution_count": 73,
   "metadata": {},
   "outputs": [
    {
     "data": {
      "image/png": "[encoded data removed]",
      "text/plain": [
       "<Figure size 700x400 with 1 Axes>"
      ]
     },
     "metadata": {},
     "output_type": "display_data"
    }
   ],
   "source": [
    "# Agrupar por acusado y sumar la cantidad de víctimas para cada uno\n",
    "victimas_por_acusado = df_final.groupby('ACUSADO')['N_VICTIMAS'].sum()\n",
    "\n",
    "# Ordenar los datos por la cantidad de víctimas de manera descendente\n",
    "victimas_por_acusado = victimas_por_acusado.sort_values(ascending=False)\n",
    "\n",
    "# Crear una figura y ejes para el gráfico de barras\n",
    "plt.figure(figsize=(7, 4))\n",
    "\n",
    "# Crear el gráfico de barras\n",
    "victimas_por_acusado.plot(kind='bar', color='skyblue')\n",
    "\n",
    "# Añadir etiquetas y título\n",
    "plt.xlabel('Acusado')\n",
    "plt.ylabel('Cantidad de Víctimas')\n",
    "plt.title('Cantidad de Víctimas por Acusado')\n",
    "\n",
    "# Mostrar el gráfico\n",
    "plt.xticks(rotation=45, ha='right')\n",
    "plt.tight_layout()\n",
    "plt.show()\n"
   ]
  },
  {
   "cell_type": "markdown",
   "metadata": {},
   "source": [
    "En este gráfico de barras, podemos observar que el vehículo con más víctimas es el auto"
   ]
  },
  {
   "cell_type": "code",
   "execution_count": 74,
   "metadata": {},
   "outputs": [
    {
     "data": {
      "text/plain": [
       "<Figure size 1100x600 with 0 Axes>"
      ]
     },
     "metadata": {},
     "output_type": "display_data"
    },
    {
     "data": {
      "image/png": "[encoded data removed]",
      "text/plain": [
       "<Figure size 640x480 with 1 Axes>"
      ]
     },
     "metadata": {},
     "output_type": "display_data"
    }
   ],
   "source": [
    "# Agrupar por acusado y sexo, y sumar la cantidad de víctimas para cada uno\n",
    "victimas_por_acusado_sexo = df_final.groupby(['ACUSADO', 'SEXO'])['N_VICTIMAS'].sum()\n",
    "\n",
    "# Desapilar el índice para tener 'ACUSADO' y 'SEXO' como columnas\n",
    "victimas_por_acusado_sexo = victimas_por_acusado_sexo.unstack()\n",
    "\n",
    "# Ordenar los datos por la cantidad total de víctimas de manera descendente\n",
    "victimas_por_acusado_sexo = victimas_por_acusado_sexo.sort_values(by='MASCULINO', ascending=False)\n",
    "\n",
    "# Colores para cada valor único en la columna 'SEXO'\n",
    "colors = {'MASCULINO': 'skyblue', 'FEMENINO': 'salmon', 'SD': 'lightgreen'}\n",
    "\n",
    "# Crear una figura y ejes para el gráfico de barras\n",
    "plt.figure(figsize=(11, 6))\n",
    "\n",
    "# Crear el gráfico de barras con barras apiladas\n",
    "victimas_por_acusado_sexo.plot(kind='bar', stacked=True, color=[colors[col] for col in victimas_por_acusado_sexo.columns])\n",
    "\n",
    "# Añadir etiquetas y título\n",
    "plt.xlabel('Acusado')\n",
    "plt.ylabel('Cantidad de Víctimas')\n",
    "plt.title('Cantidad de Víctimas por Acusado y Sexo')\n",
    "\n",
    "# Mostrar el gráfico\n",
    "plt.xticks(rotation=45, ha='right')\n",
    "plt.tight_layout()\n",
    "plt.legend(title='Sexo')\n",
    "plt.show()\n"
   ]
  },
  {
   "cell_type": "markdown",
   "metadata": {},
   "source": [
    "Como podemos observar en este gráfico de barras apiladas, podemos observar que no solamente el sexo masculino predomina en las víctimas, sino también en los acusados"
   ]
  }
 ],
 "metadata": {
  "kernelspec": {
   "display_name": "Python 3",
   "language": "python",
   "name": "python3"
  },
  "language_info": {
   "codemirror_mode": {
    "name": "ipython",
    "version": 3
   },
   "file_extension": ".py",
   "mimetype": "text/x-python",
   "name": "python",
   "nbconvert_exporter": "python",
   "pygments_lexer": "ipython3",
   "version": "3.11.9"
  }
 },
 "nbformat": 4,
 "nbformat_minor": 2
}
